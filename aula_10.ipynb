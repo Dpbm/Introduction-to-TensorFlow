{
 "cells": [
  {
   "cell_type": "code",
   "execution_count": 2,
   "id": "bca97781-24ad-4dd2-a1b8-2670a1e3abb5",
   "metadata": {},
   "outputs": [
    {
     "name": "stderr",
     "output_type": "stream",
     "text": [
      "2022-07-19 13:18:15.749520: W tensorflow/stream_executor/platform/default/dso_loader.cc:64] Could not load dynamic library 'libcudart.so.11.0'; dlerror: libcudart.so.11.0: cannot open shared object file: No such file or directory\n",
      "2022-07-19 13:18:15.749541: I tensorflow/stream_executor/cuda/cudart_stub.cc:29] Ignore above cudart dlerror if you do not have a GPU set up on your machine.\n"
     ]
    }
   ],
   "source": [
    "import tensorflow_probability as tfp\n",
    "import tensorflow as tf"
   ]
  },
  {
   "cell_type": "code",
   "execution_count": 10,
   "id": "76d62f2f-e84e-4599-877e-77dba84ae0f3",
   "metadata": {},
   "outputs": [],
   "source": [
    "tfd = tfp.distributions #model de distribuicoes do tensorflow\n",
    "initial_distribution = tfd.Categorical(probs=[0.8, 0.2]) #probabilidades de cada estado acontecer\n",
    "transition_distribution = tfd.Categorical(probs=[[0.7, 0.3], [0.2, 0.8]]) #probilidade das transicoes\n",
    "observation_distribution = tfd.Normal(loc=[0., 15.], scale=[5., 10.]) #loc sao os means (valores medios nos dias quentes e frios) e scale para os min e max (o desvio que esses dados podem fazer do padrao (average))"
   ]
  },
  {
   "cell_type": "code",
   "execution_count": 12,
   "id": "7ade5335-cb80-4032-9f00-0de113f4fb5c",
   "metadata": {},
   "outputs": [],
   "source": [
    "model = tfd.HiddenMarkovModel(\n",
    "    initial_distribution=initial_distribution,\n",
    "    transition_distribution=transition_distribution,\n",
    "    observation_distribution=observation_distribution,\n",
    "    num_steps=7) #num_steps sao a quantidade de vezes seguidas que queremos prever\n",
    "# initial_distribution seria como os dados de hoje, para apartir deles prevermos o futuro"
   ]
  },
  {
   "cell_type": "code",
   "execution_count": 16,
   "id": "829b1a7f-edac-4dad-9b58-2502d594f118",
   "metadata": {},
   "outputs": [
    {
     "name": "stdout",
     "output_type": "stream",
     "text": [
      "[3.        5.9999995 7.4999995 8.25      8.625001  8.812501  8.90625  ]\n"
     ]
    }
   ],
   "source": [
    "#isso tudo retorna as temperaturas esperadas durante os 7 dias (steps)\n",
    "\n",
    "mean = model.mean()\n",
    "\n",
    "print(mean.numpy())"
   ]
  }
 ],
 "metadata": {
  "kernelspec": {
   "display_name": "Python 3 (ipykernel)",
   "language": "python",
   "name": "python3"
  },
  "language_info": {
   "codemirror_mode": {
    "name": "ipython",
    "version": 3
   },
   "file_extension": ".py",
   "mimetype": "text/x-python",
   "name": "python",
   "nbconvert_exporter": "python",
   "pygments_lexer": "ipython3",
   "version": "3.10.4"
  }
 },
 "nbformat": 4,
 "nbformat_minor": 5
}
