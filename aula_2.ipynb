{
 "cells": [
  {
   "cell_type": "code",
   "execution_count": 1,
   "id": "c8a13b3e-5be0-4e3e-8584-a9078c354dd5",
   "metadata": {},
   "outputs": [
    {
     "name": "stderr",
     "output_type": "stream",
     "text": [
      "2022-06-27 14:22:22.186820: W tensorflow/stream_executor/platform/default/dso_loader.cc:64] Could not load dynamic library 'libcudart.so.11.0'; dlerror: libcudart.so.11.0: cannot open shared object file: No such file or directory\n",
      "2022-06-27 14:22:22.186841: I tensorflow/stream_executor/cuda/cudart_stub.cc:29] Ignore above cudart dlerror if you do not have a GPU set up on your machine.\n"
     ]
    }
   ],
   "source": [
    "import tensorflow as tf"
   ]
  },
  {
   "cell_type": "code",
   "execution_count": 2,
   "id": "a75bd5c5-cbd0-40af-9bda-1d48515f15ff",
   "metadata": {},
   "outputs": [
    {
     "data": {
      "text/plain": [
       "'2.9.1'"
      ]
     },
     "execution_count": 2,
     "metadata": {},
     "output_type": "execute_result"
    }
   ],
   "source": [
    "tf.__version__ # vendo se o tensorflow esta instalado de forma correta"
   ]
  },
  {
   "cell_type": "markdown",
   "id": "b5f8ef9c-940c-476d-8a25-4a963cabefa4",
   "metadata": {
    "jp-MarkdownHeadingCollapsed": true,
    "tags": []
   },
   "source": [
    "# Criando tensors"
   ]
  },
  {
   "cell_type": "code",
   "execution_count": 4,
   "id": "e6f08685-df95-4fa8-b953-817217b125fc",
   "metadata": {},
   "outputs": [
    {
     "data": {
      "text/plain": [
       "<tf.Tensor: shape=(), dtype=int32, numpy=0>"
      ]
     },
     "execution_count": 4,
     "metadata": {},
     "output_type": "execute_result"
    }
   ],
   "source": [
    "text = tf.Variable(\"hello world\", tf.string) #variavel padrao string, possui rank 0 por ser um escalar (apenas um valor)\n",
    "tf.rank(text)"
   ]
  },
  {
   "cell_type": "code",
   "execution_count": 5,
   "id": "27b8ebce-4c47-4260-8619-5958b0173764",
   "metadata": {},
   "outputs": [
    {
     "data": {
      "text/plain": [
       "<tf.Tensor: shape=(), dtype=int32, numpy=1>"
      ]
     },
     "execution_count": 5,
     "metadata": {},
     "output_type": "execute_result"
    }
   ],
   "source": [
    "text_array = tf.Variable([\"hello\", \"world\"], tf.string) #array, possui rank 1 por ser um array\n",
    "tf.rank(text_array)"
   ]
  },
  {
   "cell_type": "code",
   "execution_count": null,
   "id": "54cec9e9-bcca-4c4e-bd8e-5f8e41f15300",
   "metadata": {},
   "outputs": [
    {
     "data": {
      "text/plain": [
       "<tf.Tensor: shape=(), dtype=int32, numpy=2>"
      ]
     },
     "execution_count": 6,
     "metadata": {},
     "output_type": "execute_result"
    }
   ],
   "source": [
    "text_matrix = tf.Variable([[\"hello\", \"world\"], [\"it's\", \"tf\"]], tf.string) #matriz, possui rank 2 por ter duas dimensoes (altura e largura)\n",
    "tf.rank(text_matrix)"
   ]
  },
  {
   "cell_type": "markdown",
   "id": "063aae2e-1202-45ea-a030-2283e5ccc471",
   "metadata": {
    "jp-MarkdownHeadingCollapsed": true,
    "tags": []
   },
   "source": [
    "# Número de elementos"
   ]
  },
  {
   "cell_type": "code",
   "execution_count": 8,
   "id": "917bfe20-71d2-4387-a8b3-cd76831ad3c2",
   "metadata": {},
   "outputs": [
    {
     "data": {
      "text/plain": [
       "TensorShape([3, 2])"
      ]
     },
     "execution_count": 8,
     "metadata": {},
     "output_type": "execute_result"
    }
   ],
   "source": [
    "matrix = tf.Variable([[\"hello\", \"world\"], [\"it's\", \"tf\"], [\"testing\", \"this\"]], tf.string)\n",
    "matrix.shape #isso mostra o numero de dimensoes e o numero de elementos em cada dimensao"
   ]
  },
  {
   "cell_type": "markdown",
   "id": "09ee2a41-4bd6-41ed-ae6a-7f0bb23b1a36",
   "metadata": {
    "jp-MarkdownHeadingCollapsed": true,
    "tags": []
   },
   "source": [
    "# Criando tensores com valores 1"
   ]
  },
  {
   "cell_type": "code",
   "execution_count": 21,
   "id": "0b133a83-3a49-4455-9c1a-810e3776a1ce",
   "metadata": {},
   "outputs": [
    {
     "name": "stdout",
     "output_type": "stream",
     "text": [
      "escalar: [1.]\n",
      "vetor: [1. 1.]\n",
      "matriz: [1. 1. 1.]\n",
      "tensor rank 3: [[[1. 1. 1.]\n",
      "  [1. 1. 1.]]]\n"
     ]
    }
   ],
   "source": [
    "scalar = tf.ones(1)\n",
    "vector = tf.ones(2)\n",
    "matrix = tf.ones(3)\n",
    "rank_3_tensor = tf.ones([1,2,3])\n",
    "print(f\"escalar: {scalar}\")\n",
    "print(f\"vetor: {vector}\")\n",
    "print(f\"matriz: {matrix}\")\n",
    "print(f\"tensor rank 3: {rank_3_tensor}\")"
   ]
  },
  {
   "cell_type": "markdown",
   "id": "286d788c-e38b-42b1-81e2-6ffef923395c",
   "metadata": {
    "jp-MarkdownHeadingCollapsed": true,
    "tags": []
   },
   "source": [
    "# Mudando o formato dos tensors"
   ]
  },
  {
   "cell_type": "code",
   "execution_count": 23,
   "id": "bdbc9650-4365-4457-9368-90f06595416b",
   "metadata": {},
   "outputs": [
    {
     "data": {
      "text/plain": [
       "<tf.Tensor: shape=(1, 2, 3), dtype=float32, numpy=\n",
       "array([[[1., 1., 1.],\n",
       "        [1., 1., 1.]]], dtype=float32)>"
      ]
     },
     "execution_count": 23,
     "metadata": {},
     "output_type": "execute_result"
    }
   ],
   "source": [
    "tensor = tf.ones([1,2,3])\n",
    "tensor"
   ]
  },
  {
   "cell_type": "code",
   "execution_count": 35,
   "id": "88cd9f71-8404-464d-b453-b14dcb7c5912",
   "metadata": {},
   "outputs": [
    {
     "data": {
      "text/plain": [
       "<tf.Tensor: shape=(3, 2, 1), dtype=float32, numpy=\n",
       "array([[[1.],\n",
       "        [1.]],\n",
       "\n",
       "       [[1.],\n",
       "        [1.]],\n",
       "\n",
       "       [[1.],\n",
       "        [1.]]], dtype=float32)>"
      ]
     },
     "execution_count": 35,
     "metadata": {},
     "output_type": "execute_result"
    }
   ],
   "source": [
    "tf.reshape(tensor, [3,2,1]) # modifica o shape do tensor criado a cima"
   ]
  },
  {
   "cell_type": "code",
   "execution_count": 36,
   "id": "02fa3d77-f46d-4852-b444-6e13f2df6820",
   "metadata": {},
   "outputs": [
    {
     "data": {
      "text/plain": [
       "<tf.Tensor: shape=(3, 2), dtype=float32, numpy=\n",
       "array([[1., 1.],\n",
       "       [1., 1.],\n",
       "       [1., 1.]], dtype=float32)>"
      ]
     },
     "execution_count": 36,
     "metadata": {},
     "output_type": "execute_result"
    }
   ],
   "source": [
    "tf.reshape(tensor, [3,-1]) # o -1 diz para a funcao encontrar o numero de dimensoes necessaria para ter 3 valores (nesse caso) em cada"
   ]
  },
  {
   "cell_type": "code",
   "execution_count": 37,
   "id": "89a7333c-ff2d-4960-b84d-81a60eedb460",
   "metadata": {},
   "outputs": [
    {
     "data": {
      "text/plain": [
       "<tf.Tensor: shape=(1, 6), dtype=float32, numpy=array([[1., 1., 1., 1., 1., 1.]], dtype=float32)>"
      ]
     },
     "execution_count": 37,
     "metadata": {},
     "output_type": "execute_result"
    }
   ],
   "source": [
    "tf.reshape(tensor, [1, -1])"
   ]
  },
  {
   "cell_type": "markdown",
   "id": "6f8b161d-089f-4650-9a4b-345c5d20ec41",
   "metadata": {
    "tags": []
   },
   "source": [
    "# tipos de Tensors\n",
    "\n",
    "* Variable\n",
    "* Constant\n",
    "* Placeholder (feito para a versão 1 do tensorflow)\n",
    "* SparseTensor\n",
    "\n",
    "apenas o `Variable` é mutavel"
   ]
  },
  {
   "cell_type": "code",
   "execution_count": 39,
   "id": "f5268ae0-180e-4a55-aa2d-fa7fa3bdbfa9",
   "metadata": {},
   "outputs": [
    {
     "data": {
      "text/plain": [
       "<tf.Variable 'Variable:0' shape=() dtype=string, numpy=b'test'>"
      ]
     },
     "execution_count": 39,
     "metadata": {},
     "output_type": "execute_result"
    }
   ],
   "source": [
    "variable  = tf.Variable(\"test\", tf.string)\n",
    "variable"
   ]
  },
  {
   "cell_type": "code",
   "execution_count": 42,
   "id": "e55b8c40-2f81-4e1d-8ad8-4e35afc7a777",
   "metadata": {},
   "outputs": [
    {
     "data": {
      "text/plain": [
       "<tf.Tensor: shape=(), dtype=string, numpy=b'test'>"
      ]
     },
     "execution_count": 42,
     "metadata": {},
     "output_type": "execute_result"
    }
   ],
   "source": [
    "constant = tf.constant(\"test\", tf.string)\n",
    "constant"
   ]
  },
  {
   "cell_type": "code",
   "execution_count": 5,
   "id": "28d96922-a9f9-40fe-bd14-f3f6a7b6d835",
   "metadata": {},
   "outputs": [
    {
     "name": "stdout",
     "output_type": "stream",
     "text": [
      "resultado: [[13 13 13]\n",
      " [26 26 26]]\n"
     ]
    }
   ],
   "source": [
    "tf.compat.v1.disable_eager_execution()\n",
    "\n",
    "placeholder = tf.compat.v1.placeholder(tf.int16, shape=(2, 3), name=\"tensorTest\") # o placeholder sera uma maneira de criar uma template de um tensor que mais para frente sera usado para inserir valores no formato previsto\n",
    "operation = placeholder * 13 # operacao que sera feita com os dados para colcoar dentro do placeholder\n",
    "\n",
    "with tf.compat.v1.Session() as session: #usar sessions nao e mais necessario na v2 do tensorflow, mas como estamos usando uma feature da v1 entao foi necessario\n",
    "    operation_res = session.run(operation, feed_dict={placeholder: [[1, 1, 1], [2, 2, 2]]}) #faz as operacoes para cada um desses valores e coloca eles no plcaholder\n",
    "    print(\"resultado: \" + str(operation_res))\n"
   ]
  },
  {
   "cell_type": "code",
   "execution_count": 63,
   "id": "e37a6b09-b9a0-4804-b1ab-f4f819ab4cbc",
   "metadata": {},
   "outputs": [
    {
     "data": {
      "text/plain": [
       "<tensorflow.python.framework.sparse_tensor.SparseTensor at 0x7f04a0543d00>"
      ]
     },
     "execution_count": 63,
     "metadata": {},
     "output_type": "execute_result"
    }
   ],
   "source": [
    "\"\"\"\n",
    "cria um tensor como todos os valores zero e coloca nesses indices o valor corespondente que voce deixou em values\n",
    "\"\"\"\n",
    "tf.sparse.SparseTensor(indices=((0, 0), (1,0), (1,1)), values=(1, 2, 3), dense_shape=(2, 3))\n",
    "  "
   ]
  },
  {
   "cell_type": "markdown",
   "id": "8f7db562-5f09-4f1e-8e30-6b334a602042",
   "metadata": {
    "jp-MarkdownHeadingCollapsed": true,
    "tags": []
   },
   "source": [
    "# Criando um tensor com zeros"
   ]
  },
  {
   "cell_type": "code",
   "execution_count": 68,
   "id": "bf368cc2-a149-4b99-9355-3c78e4b34770",
   "metadata": {},
   "outputs": [
    {
     "data": {
      "text/plain": [
       "<tf.Tensor 'zeros_3:0' shape=(2, 3) dtype=float32>"
      ]
     },
     "execution_count": 68,
     "metadata": {},
     "output_type": "execute_result"
    }
   ],
   "source": [
    "tf.zeros([2,3]) # semelhante a funcao ones, no entanto essa cria um tensor com zeros"
   ]
  },
  {
   "cell_type": "markdown",
   "id": "6793c01b-0f29-4d4d-a4d9-1da7e12d22a8",
   "metadata": {},
   "source": [
    "# Alguns testes"
   ]
  },
  {
   "cell_type": "code",
   "execution_count": 2,
   "id": "7baf9eb9-cd8c-4397-9562-d08901aeb545",
   "metadata": {},
   "outputs": [
    {
     "name": "stdout",
     "output_type": "stream",
     "text": [
      "tf.Tensor(\n",
      "[[[[1. 1. 1. 1. 1. 1. 1. 1. 1. 1.]\n",
      "   [1. 1. 1. 1. 1. 1. 1. 1. 1. 1.]\n",
      "   [1. 1. 1. 1. 1. 1. 1. 1. 1. 1.]]\n",
      "\n",
      "  [[1. 1. 1. 1. 1. 1. 1. 1. 1. 1.]\n",
      "   [1. 1. 1. 1. 1. 1. 1. 1. 1. 1.]\n",
      "   [1. 1. 1. 1. 1. 1. 1. 1. 1. 1.]]\n",
      "\n",
      "  [[1. 1. 1. 1. 1. 1. 1. 1. 1. 1.]\n",
      "   [1. 1. 1. 1. 1. 1. 1. 1. 1. 1.]\n",
      "   [1. 1. 1. 1. 1. 1. 1. 1. 1. 1.]]\n",
      "\n",
      "  [[1. 1. 1. 1. 1. 1. 1. 1. 1. 1.]\n",
      "   [1. 1. 1. 1. 1. 1. 1. 1. 1. 1.]\n",
      "   [1. 1. 1. 1. 1. 1. 1. 1. 1. 1.]]\n",
      "\n",
      "  [[1. 1. 1. 1. 1. 1. 1. 1. 1. 1.]\n",
      "   [1. 1. 1. 1. 1. 1. 1. 1. 1. 1.]\n",
      "   [1. 1. 1. 1. 1. 1. 1. 1. 1. 1.]]]\n",
      "\n",
      "\n",
      " [[[1. 1. 1. 1. 1. 1. 1. 1. 1. 1.]\n",
      "   [1. 1. 1. 1. 1. 1. 1. 1. 1. 1.]\n",
      "   [1. 1. 1. 1. 1. 1. 1. 1. 1. 1.]]\n",
      "\n",
      "  [[1. 1. 1. 1. 1. 1. 1. 1. 1. 1.]\n",
      "   [1. 1. 1. 1. 1. 1. 1. 1. 1. 1.]\n",
      "   [1. 1. 1. 1. 1. 1. 1. 1. 1. 1.]]\n",
      "\n",
      "  [[1. 1. 1. 1. 1. 1. 1. 1. 1. 1.]\n",
      "   [1. 1. 1. 1. 1. 1. 1. 1. 1. 1.]\n",
      "   [1. 1. 1. 1. 1. 1. 1. 1. 1. 1.]]\n",
      "\n",
      "  [[1. 1. 1. 1. 1. 1. 1. 1. 1. 1.]\n",
      "   [1. 1. 1. 1. 1. 1. 1. 1. 1. 1.]\n",
      "   [1. 1. 1. 1. 1. 1. 1. 1. 1. 1.]]\n",
      "\n",
      "  [[1. 1. 1. 1. 1. 1. 1. 1. 1. 1.]\n",
      "   [1. 1. 1. 1. 1. 1. 1. 1. 1. 1.]\n",
      "   [1. 1. 1. 1. 1. 1. 1. 1. 1. 1.]]]], shape=(2, 5, 3, 10), dtype=float32)\n"
     ]
    },
    {
     "name": "stderr",
     "output_type": "stream",
     "text": [
      "2022-06-27 14:22:23.337282: I tensorflow/stream_executor/cuda/cuda_gpu_executor.cc:975] successful NUMA node read from SysFS had negative value (-1), but there must be at least one NUMA node, so returning NUMA node zero\n",
      "2022-06-27 14:22:23.337576: W tensorflow/stream_executor/platform/default/dso_loader.cc:64] Could not load dynamic library 'libcudart.so.11.0'; dlerror: libcudart.so.11.0: cannot open shared object file: No such file or directory\n",
      "2022-06-27 14:22:23.337624: W tensorflow/stream_executor/platform/default/dso_loader.cc:64] Could not load dynamic library 'libcublas.so.11'; dlerror: libcublas.so.11: cannot open shared object file: No such file or directory\n",
      "2022-06-27 14:22:23.337667: W tensorflow/stream_executor/platform/default/dso_loader.cc:64] Could not load dynamic library 'libcublasLt.so.11'; dlerror: libcublasLt.so.11: cannot open shared object file: No such file or directory\n",
      "2022-06-27 14:22:23.337708: W tensorflow/stream_executor/platform/default/dso_loader.cc:64] Could not load dynamic library 'libcufft.so.10'; dlerror: libcufft.so.10: cannot open shared object file: No such file or directory\n",
      "2022-06-27 14:22:23.337751: W tensorflow/stream_executor/platform/default/dso_loader.cc:64] Could not load dynamic library 'libcurand.so.10'; dlerror: libcurand.so.10: cannot open shared object file: No such file or directory\n",
      "2022-06-27 14:22:23.337792: W tensorflow/stream_executor/platform/default/dso_loader.cc:64] Could not load dynamic library 'libcusolver.so.11'; dlerror: libcusolver.so.11: cannot open shared object file: No such file or directory\n",
      "2022-06-27 14:22:23.337835: W tensorflow/stream_executor/platform/default/dso_loader.cc:64] Could not load dynamic library 'libcusparse.so.11'; dlerror: libcusparse.so.11: cannot open shared object file: No such file or directory\n",
      "2022-06-27 14:22:23.337876: W tensorflow/stream_executor/platform/default/dso_loader.cc:64] Could not load dynamic library 'libcudnn.so.8'; dlerror: libcudnn.so.8: cannot open shared object file: No such file or directory\n",
      "2022-06-27 14:22:23.337883: W tensorflow/core/common_runtime/gpu/gpu_device.cc:1850] Cannot dlopen some GPU libraries. Please make sure the missing libraries mentioned above are installed properly if you would like to use GPU. Follow the guide at https://www.tensorflow.org/install/gpu for how to download and setup the required libraries for your platform.\n",
      "Skipping registering GPU devices...\n",
      "2022-06-27 14:22:23.339325: I tensorflow/core/platform/cpu_feature_guard.cc:193] This TensorFlow binary is optimized with oneAPI Deep Neural Network Library (oneDNN) to use the following CPU instructions in performance-critical operations:  AVX2 FMA\n",
      "To enable them in other operations, rebuild TensorFlow with the appropriate compiler flags.\n"
     ]
    }
   ],
   "source": [
    "tensor_a = tf.ones([2, 5, 3, 10])\n",
    "print(tensor_a)"
   ]
  },
  {
   "cell_type": "code",
   "execution_count": 10,
   "id": "2639b3fb-5cd6-450c-868f-c094eea43de0",
   "metadata": {},
   "outputs": [
    {
     "data": {
      "text/plain": [
       "<tf.Tensor: shape=(300,), dtype=float32, numpy=\n",
       "array([1., 1., 1., 1., 1., 1., 1., 1., 1., 1., 1., 1., 1., 1., 1., 1., 1.,\n",
       "       1., 1., 1., 1., 1., 1., 1., 1., 1., 1., 1., 1., 1., 1., 1., 1., 1.,\n",
       "       1., 1., 1., 1., 1., 1., 1., 1., 1., 1., 1., 1., 1., 1., 1., 1., 1.,\n",
       "       1., 1., 1., 1., 1., 1., 1., 1., 1., 1., 1., 1., 1., 1., 1., 1., 1.,\n",
       "       1., 1., 1., 1., 1., 1., 1., 1., 1., 1., 1., 1., 1., 1., 1., 1., 1.,\n",
       "       1., 1., 1., 1., 1., 1., 1., 1., 1., 1., 1., 1., 1., 1., 1., 1., 1.,\n",
       "       1., 1., 1., 1., 1., 1., 1., 1., 1., 1., 1., 1., 1., 1., 1., 1., 1.,\n",
       "       1., 1., 1., 1., 1., 1., 1., 1., 1., 1., 1., 1., 1., 1., 1., 1., 1.,\n",
       "       1., 1., 1., 1., 1., 1., 1., 1., 1., 1., 1., 1., 1., 1., 1., 1., 1.,\n",
       "       1., 1., 1., 1., 1., 1., 1., 1., 1., 1., 1., 1., 1., 1., 1., 1., 1.,\n",
       "       1., 1., 1., 1., 1., 1., 1., 1., 1., 1., 1., 1., 1., 1., 1., 1., 1.,\n",
       "       1., 1., 1., 1., 1., 1., 1., 1., 1., 1., 1., 1., 1., 1., 1., 1., 1.,\n",
       "       1., 1., 1., 1., 1., 1., 1., 1., 1., 1., 1., 1., 1., 1., 1., 1., 1.,\n",
       "       1., 1., 1., 1., 1., 1., 1., 1., 1., 1., 1., 1., 1., 1., 1., 1., 1.,\n",
       "       1., 1., 1., 1., 1., 1., 1., 1., 1., 1., 1., 1., 1., 1., 1., 1., 1.,\n",
       "       1., 1., 1., 1., 1., 1., 1., 1., 1., 1., 1., 1., 1., 1., 1., 1., 1.,\n",
       "       1., 1., 1., 1., 1., 1., 1., 1., 1., 1., 1., 1., 1., 1., 1., 1., 1.,\n",
       "       1., 1., 1., 1., 1., 1., 1., 1., 1., 1., 1.], dtype=float32)>"
      ]
     },
     "execution_count": 10,
     "metadata": {},
     "output_type": "execute_result"
    }
   ],
   "source": [
    "from numpy import prod\n",
    "#2 * 5 * 3 * 10 --> 10 * 3 * 10 --> 30 * 10 --> 300\n",
    "new_shape = prod(list(tensor_a.shape))\n",
    "\n",
    "tf.reshape(tensor_a, [new_shape])\n"
   ]
  }
 ],
 "metadata": {
  "kernelspec": {
   "display_name": "Python 3 (ipykernel)",
   "language": "python",
   "name": "python3"
  },
  "language_info": {
   "codemirror_mode": {
    "name": "ipython",
    "version": 3
   },
   "file_extension": ".py",
   "mimetype": "text/x-python",
   "name": "python",
   "nbconvert_exporter": "python",
   "pygments_lexer": "ipython3",
   "version": "3.10.4"
  }
 },
 "nbformat": 4,
 "nbformat_minor": 5
}
